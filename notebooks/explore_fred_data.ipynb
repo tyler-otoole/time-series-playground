{
 "cells": [
  {
   "cell_type": "code",
   "execution_count": 124,
   "metadata": {},
   "outputs": [],
   "source": [
    "import pyfredapi as pf\n",
    "import pandas as pd\n",
    "from datetime import timedelta"
   ]
  },
  {
   "cell_type": "code",
   "execution_count": 125,
   "metadata": {},
   "outputs": [],
   "source": [
    "# only get series that are daily prices (~ 230 series as of 2025-03-08)\n",
    "search_results = pf.search_series('daily price')\n",
    "df_prices = pd.DataFrame(search_results)"
   ]
  },
  {
   "cell_type": "code",
   "execution_count": 126,
   "metadata": {},
   "outputs": [
    {
     "data": {
      "text/plain": [
       "id                           object\n",
       "realtime_start               object\n",
       "realtime_end                 object\n",
       "title                        object\n",
       "observation_start            object\n",
       "observation_end              object\n",
       "frequency                    object\n",
       "frequency_short              object\n",
       "units                        object\n",
       "units_short                  object\n",
       "seasonal_adjustment          object\n",
       "seasonal_adjustment_short    object\n",
       "last_updated                 object\n",
       "popularity                    int64\n",
       "group_popularity              int64\n",
       "notes                        object\n",
       "dtype: object"
      ]
     },
     "execution_count": 126,
     "metadata": {},
     "output_type": "execute_result"
    }
   ],
   "source": [
    "# data types\n",
    "df_prices.dtypes"
   ]
  },
  {
   "cell_type": "code",
   "execution_count": 127,
   "metadata": {},
   "outputs": [],
   "source": [
    "# change dates to datetime type\n",
    "date_cols = ['realtime_start', 'realtime_end', 'observation_start', 'observation_end', 'last_updated']\n",
    "for col in date_cols:\n",
    "    df_prices[col] = pd.to_datetime(df_prices[col], utc=True)"
   ]
  },
  {
   "cell_type": "code",
   "execution_count": 128,
   "metadata": {},
   "outputs": [
    {
     "data": {
      "text/plain": [
       "id                                        object\n",
       "realtime_start               datetime64[ns, UTC]\n",
       "realtime_end                 datetime64[ns, UTC]\n",
       "title                                     object\n",
       "observation_start            datetime64[ns, UTC]\n",
       "observation_end              datetime64[ns, UTC]\n",
       "frequency                                 object\n",
       "frequency_short                           object\n",
       "units                                     object\n",
       "units_short                               object\n",
       "seasonal_adjustment                       object\n",
       "seasonal_adjustment_short                 object\n",
       "last_updated                 datetime64[ns, UTC]\n",
       "popularity                                 int64\n",
       "group_popularity                           int64\n",
       "notes                                     object\n",
       "dtype: object"
      ]
     },
     "execution_count": 128,
     "metadata": {},
     "output_type": "execute_result"
    }
   ],
   "source": [
    "# check data types after conversion\n",
    "df_prices.dtypes"
   ]
  },
  {
   "cell_type": "code",
   "execution_count": null,
   "metadata": {},
   "outputs": [],
   "source": [
    "# only look at series that have been updated within the last week & have at least 365 days of data in total\n",
    "\n",
    "cutoff_date = pd.to_datetime(pd.Timestamp.today() - timedelta(weeks=1), utc=True)\n",
    "# filter daily prices data to only include rows with observation_end >= cutoff date\n",
    "df_prices_current = df_prices[df_prices['last_updated'] >= cutoff_date].copy()\n",
    "# add a new column for number of days of data (difference between observation_end and observation_start)\n",
    "df_prices_current['data_duration'] = (df_prices_current['observation_end'] - df_prices_current['observation_start']).dt.days\n",
    "# only include rows with at least 365 days of data\n",
    "df_prices_current = df_prices_current[df_prices_current['data_duration'] >= 365]"
   ]
  },
  {
   "cell_type": "code",
   "execution_count": null,
   "metadata": {},
   "outputs": [
    {
     "data": {
      "text/plain": [
       "87"
      ]
     },
     "execution_count": 134,
     "metadata": {},
     "output_type": "execute_result"
    }
   ],
   "source": [
    "# how many series are there?\n",
    "len(df_prices_current)"
   ]
  }
 ],
 "metadata": {
  "kernelspec": {
   "display_name": "venv",
   "language": "python",
   "name": "python3"
  },
  "language_info": {
   "codemirror_mode": {
    "name": "ipython",
    "version": 3
   },
   "file_extension": ".py",
   "mimetype": "text/x-python",
   "name": "python",
   "nbconvert_exporter": "python",
   "pygments_lexer": "ipython3",
   "version": "3.11.4"
  }
 },
 "nbformat": 4,
 "nbformat_minor": 2
}
