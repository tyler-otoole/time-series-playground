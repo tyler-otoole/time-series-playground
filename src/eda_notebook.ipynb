{
 "cells": [
  {
   "cell_type": "markdown",
   "id": "aa1e7027",
   "metadata": {},
   "source": [
    "# Time Series Exploratory Data Analysis (EDA) Template\n",
    "\n",
    "Reusable notebook for investigating time series datasets:\n",
    "- Trends, seasonality, decomposition\n",
    "- Categorical effects (month, weekday, holiday)\n",
    "- Statistical significance & effect sizes\n",
    "- Diagnostics (stationarity, autocorrelation, normality)\n",
    "- Nice visualizations for presentation"
   ]
  },
  {
   "cell_type": "code",
   "execution_count": null,
   "id": "3646c186",
   "metadata": {},
   "outputs": [],
   "source": [
    "import pandas as pd\n",
    "import numpy as np\n",
    "import matplotlib.pyplot as plt\n",
    "import seaborn as sns\n",
    "import statsmodels.api as sm\n",
    "from statsmodels.formula.api import ols\n",
    "from statsmodels.tsa.seasonal import seasonal_decompose\n",
    "from statsmodels.tsa.stattools import adfuller, acf, pacf\n",
    "from scipy.stats import ttest_ind, shapiro\n",
    "from statsmodels.stats.diagnostic import acorr_ljungbox\n",
    "\n",
    "sns.set_theme(style=\"whitegrid\", context=\"talk\", palette=\"deep\")\n",
    "\n",
    "# read data\n",
    "df = pd.read_csv(\"../dummy_timeseries.csv\", parse_dates=[\"date\"])\n",
    "df.info()\n",
    "df.head()\n"
   ]
  },
  {
   "cell_type": "markdown",
   "id": "43218604",
   "metadata": {},
   "source": [
    "## 1. Basic Checks"
   ]
  },
  {
   "cell_type": "code",
   "execution_count": null,
   "id": "d3821262",
   "metadata": {},
   "outputs": [],
   "source": [
    "print(df.describe(include=\"all\"))\n",
    "print(\"Date range:\", df[\"date\"].min(), \"to\", df[\"date\"].max())\n",
    "print(\"Missing values:\\n\", df.isna().sum())"
   ]
  },
  {
   "cell_type": "markdown",
   "id": "b408ae62",
   "metadata": {},
   "source": [
    "## 2. Trend & Rolling Mean"
   ]
  },
  {
   "cell_type": "code",
   "execution_count": null,
   "id": "d5d543cd",
   "metadata": {},
   "outputs": [],
   "source": [
    "plt.figure(figsize=(14,6))\n",
    "plt.plot(df[\"date\"], df[\"value\"], alpha=0.4, label=\"Daily values\")\n",
    "plt.plot(df[\"date\"], df[\"value\"].rolling(30).mean(), label=\"30-day rolling mean\", linewidth=3)\n",
    "plt.title(\"Time Series with Rolling Mean\")\n",
    "plt.legend()\n",
    "plt.show()"
   ]
  },
  {
   "cell_type": "markdown",
   "id": "9acd82d5",
   "metadata": {},
   "source": [
    "## 3. Seasonal Exploration"
   ]
  },
  {
   "cell_type": "code",
   "execution_count": null,
   "id": "52c8769b",
   "metadata": {},
   "outputs": [],
   "source": [
    "# By month\n",
    "plt.figure(figsize=(12,5))\n",
    "sns.boxplot(x=\"month_name\", y=\"value\", data=df,\n",
    "            order=pd.date_range(\"2000-01-01\",\"2000-12-31\", freq=\"M\").month_name().unique())\n",
    "plt.xticks(rotation=45)\n",
    "plt.title(\"Distribution of Values by Month\")\n",
    "plt.show()\n",
    "\n",
    "# By weekday\n",
    "plt.figure(figsize=(10,5))\n",
    "sns.barplot(x=\"weekday_name\", y=\"value\", data=df,\n",
    "            order=[\"Monday\",\"Tuesday\",\"Wednesday\",\"Thursday\",\"Friday\",\"Saturday\",\"Sunday\"])\n",
    "plt.title(\"Average Value by Weekday\")\n",
    "plt.show()\n",
    "\n",
    "# Holiday vs non-holiday\n",
    "plt.figure(figsize=(6,5))\n",
    "sns.boxplot(x=\"holiday\", y=\"value\", data=df)\n",
    "plt.title(\"Holiday vs Non-Holiday Values\")\n",
    "plt.show()\n",
    "\n",
    "# Heatmap: average value by weekday vs month\n",
    "pivot = df.pivot_table(index=\"weekday_name\", columns=\"month_name\", values=\"value\", aggfunc=\"mean\")\n",
    "plt.figure(figsize=(12,6))\n",
    "sns.heatmap(pivot, annot=True, fmt=\".1f\", cmap=\"coolwarm\")\n",
    "plt.title(\"Average Value by Weekday & Month\")\n",
    "plt.show()\n"
   ]
  },
  {
   "cell_type": "markdown",
   "id": "2494f0ea",
   "metadata": {},
   "source": [
    "## 4. Statistical Tests & Effect Sizes"
   ]
  },
  {
   "cell_type": "code",
   "execution_count": null,
   "id": "89229b45",
   "metadata": {},
   "outputs": [],
   "source": [
    "# ANOVA by month\n",
    "model_month = ols(\"value ~ C(month_name)\", data=df).fit()\n",
    "anova_month = sm.stats.anova_lm(model_month, typ=2)\n",
    "eta_sq_month = anova_month[\"sum_sq\"][0] / anova_month[\"sum_sq\"].sum()\n",
    "\n",
    "# ANOVA by weekday\n",
    "model_weekday = ols(\"value ~ C(weekday_name)\", data=df).fit()\n",
    "anova_weekday = sm.stats.anova_lm(model_weekday, typ=2)\n",
    "eta_sq_weekday = anova_weekday[\"sum_sq\"][0] / anova_weekday[\"sum_sq\"].sum()\n",
    "\n",
    "# t-test holidays\n",
    "holiday_vals = df.loc[df[\"holiday\"]==1, \"value\"]\n",
    "nonholiday_vals = df.loc[df[\"holiday\"]==0, \"value\"]\n",
    "t_stat, p_val = ttest_ind(holiday_vals, nonholiday_vals, equal_var=False)\n",
    "cohen_d = (holiday_vals.mean() - nonholiday_vals.mean()) / np.sqrt(\n",
    "    (holiday_vals.std()**2 + nonholiday_vals.std()**2) / 2\n",
    ")\n",
    "\n",
    "print(\"ANOVA by Month:\\n\", anova_month)\n",
    "print(f\"η² (effect size): {eta_sq_month:.3f}\\n\")\n",
    "\n",
    "print(\"ANOVA by Weekday:\\n\", anova_weekday)\n",
    "print(f\"η² (effect size): {eta_sq_weekday:.3f}\\n\")\n",
    "\n",
    "print(f\"T-test Holidays vs Non-Holidays: t={t_stat:.3f}, p={p_val:.3e}\")\n",
    "print(f\"Cohen's d: {cohen_d:.3f}\")\n"
   ]
  },
  {
   "cell_type": "markdown",
   "id": "c47246d6",
   "metadata": {},
   "source": [
    "## 5. Time Series Decomposition"
   ]
  },
  {
   "cell_type": "code",
   "execution_count": null,
   "id": "de62d3ba",
   "metadata": {},
   "outputs": [],
   "source": [
    "df_ts = df.set_index(\"date\")[\"value\"].asfreq(\"D\")\n",
    "\n",
    "decomp = seasonal_decompose(df_ts, model=\"additive\", period=365)\n",
    "decomp.plot()\n",
    "plt.show()\n"
   ]
  },
  {
   "cell_type": "markdown",
   "id": "b15fd424",
   "metadata": {},
   "source": [
    "## 6. Autocorrelation"
   ]
  },
  {
   "cell_type": "code",
   "execution_count": null,
   "id": "d11cc9ec",
   "metadata": {},
   "outputs": [],
   "source": [
    "fig, axes = plt.subplots(1,2, figsize=(14,5))\n",
    "sm.graphics.tsa.plot_acf(df.set_index(\"date\")[\"value\"], lags=60, ax=axes[0])\n",
    "sm.graphics.tsa.plot_pacf(df.set_index(\"date\")[\"value\"], lags=60, ax=axes[1])\n",
    "plt.show()\n",
    "\n",
    "# Ljung–Box test\n",
    "lb_test = acorr_ljungbox(df.set_index(\"date\")[\"value\"], lags=[20], return_df=True)\n",
    "print(lb_test)"
   ]
  },
  {
   "cell_type": "markdown",
   "id": "6be6bbe4",
   "metadata": {},
   "source": [
    "## 7. Distributional Checks and Normality"
   ]
  },
  {
   "cell_type": "code",
   "execution_count": null,
   "id": "4be0935f",
   "metadata": {},
   "outputs": [],
   "source": [
    "plt.figure(figsize=(10,5))\n",
    "sns.histplot(df[\"value\"], kde=True, bins=40)\n",
    "plt.title(\"Distribution of Values\")\n",
    "plt.show()\n",
    "\n",
    "# Shapiro-Wilk test on residuals after decomposition\n",
    "resid = seasonal_decompose(df.set_index(\"date\")[\"value\"], model=\"additive\", period=365).resid.dropna()\n",
    "shapiro_stat, shapiro_p = shapiro(resid)\n",
    "print(f\"Shapiro-Wilk Test on Residuals: W={shapiro_stat:.3f}, p={shapiro_p:.3e}\")\n"
   ]
  },
  {
   "cell_type": "markdown",
   "id": "720fd8fa",
   "metadata": {},
   "source": [
    "## 8. Stationarity Test (ADF)"
   ]
  },
  {
   "cell_type": "code",
   "execution_count": null,
   "id": "5b00c563",
   "metadata": {},
   "outputs": [],
   "source": [
    "adf_result = adfuller(df_ts.dropna())\n",
    "print(\"ADF Statistic:\", adf_result[0])\n",
    "print(\"p-value:\", adf_result[1])\n",
    "for key, val in adf_result[4].items():\n",
    "    print(f\"Critical Value {key}: {val:.3f}\")"
   ]
  },
  {
   "cell_type": "markdown",
   "id": "27b7a5c1",
   "metadata": {},
   "source": [
    "## 9. Feature Engineering & Outliers"
   ]
  },
  {
   "cell_type": "code",
   "execution_count": null,
   "id": "cba49a26",
   "metadata": {},
   "outputs": [],
   "source": [
    "# Weekend flag\n",
    "df[\"is_weekend\"] = df[\"weekday_name\"].isin([\"Saturday\",\"Sunday\"]).astype(int)\n",
    "\n",
    "# Outlier detection (IQR)\n",
    "Q1, Q3 = df[\"value\"].quantile([0.25, 0.75])\n",
    "IQR = Q3 - Q1\n",
    "outliers = df[(df[\"value\"] < Q1 - 1.5*IQR) | (df[\"value\"] > Q3 + 1.5*IQR)]\n",
    "print(f\"Detected {len(outliers)} potential outliers\")\n",
    "\n",
    "# Correlation heatmap\n",
    "plt.figure(figsize=(6,5))\n",
    "sns.heatmap(df[[\"holiday\",\"is_weekend\",\"value\"]].corr(), annot=True, cmap=\"vlag\", center=0)\n",
    "plt.title(\"Correlation Heatmap\")\n",
    "plt.show()"
   ]
  }
 ],
 "metadata": {
  "kernelspec": {
   "display_name": ".venv",
   "language": "python",
   "name": "python3"
  },
  "language_info": {
   "codemirror_mode": {
    "name": "ipython",
    "version": 3
   },
   "file_extension": ".py",
   "mimetype": "text/x-python",
   "name": "python",
   "nbconvert_exporter": "python",
   "pygments_lexer": "ipython3",
   "version": "3.13.7"
  }
 },
 "nbformat": 4,
 "nbformat_minor": 5
}
